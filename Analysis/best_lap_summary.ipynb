{
 "cells": [
  {
   "cell_type": "markdown",
   "id": "70b33cb8-bc37-43ed-9a67-9d070f0e317e",
   "metadata": {},
   "source": [
    "List of kart numbers and its average best lap time, from the last 30 days"
   ]
  },
  {
   "cell_type": "code",
   "execution_count": 11,
   "id": "bc9193c1-15fc-469a-871b-aecebfea7e2f",
   "metadata": {},
   "outputs": [],
   "source": [
    "import sqlite3\n",
    "import pandas as pd\n",
    "from datetime import timedelta"
   ]
  },
  {
   "cell_type": "code",
   "execution_count": 2,
   "id": "637e3a42-91d3-43f5-bcc8-33679d94b4b2",
   "metadata": {},
   "outputs": [],
   "source": [
    "conn = sqlite3.connect('../scraping/scraping_data.db')\n",
    "cursor = conn.cursor()"
   ]
  },
  {
   "cell_type": "code",
   "execution_count": 30,
   "id": "2f8648ca-397c-4078-8ef8-00491689d189",
   "metadata": {},
   "outputs": [
    {
     "name": "stdout",
     "output_type": "stream",
     "text": [
      "2023-12-31 00:00:00 2023-12-01 00:00:00\n"
     ]
    }
   ],
   "source": [
    "df = pd.read_sql_query(\"select * from params_to_scrap where fetched is True\", conn)\n",
    "df['date'] = pd.to_datetime(df[['year', 'month', 'day']])\n",
    "end_date = df['date'].max()\n",
    "init_date = end_date - timedelta(days=30)\n",
    "print(end_date, init_date)"
   ]
  },
  {
   "cell_type": "code",
   "execution_count": 50,
   "id": "8e092344-86b0-40b2-8ad4-759260962d3f",
   "metadata": {},
   "outputs": [
    {
     "data": {
      "text/html": [
       "<div>\n",
       "<style scoped>\n",
       "    .dataframe tbody tr th:only-of-type {\n",
       "        vertical-align: middle;\n",
       "    }\n",
       "\n",
       "    .dataframe tbody tr th {\n",
       "        vertical-align: top;\n",
       "    }\n",
       "\n",
       "    .dataframe thead th {\n",
       "        text-align: right;\n",
       "    }\n",
       "</style>\n",
       "<table border=\"1\" class=\"dataframe\">\n",
       "  <thead>\n",
       "    <tr style=\"text-align: right;\">\n",
       "      <th></th>\n",
       "      <th>car_number</th>\n",
       "      <th>best_lap_time</th>\n",
       "    </tr>\n",
       "  </thead>\n",
       "  <tbody>\n",
       "    <tr>\n",
       "      <th>0</th>\n",
       "      <td>000</td>\n",
       "      <td>1:00.457</td>\n",
       "    </tr>\n",
       "    <tr>\n",
       "      <th>1</th>\n",
       "      <td>001</td>\n",
       "      <td>58.780</td>\n",
       "    </tr>\n",
       "    <tr>\n",
       "      <th>2</th>\n",
       "      <td>008</td>\n",
       "      <td>1:02.119</td>\n",
       "    </tr>\n",
       "    <tr>\n",
       "      <th>3</th>\n",
       "      <td>012</td>\n",
       "      <td>59.808</td>\n",
       "    </tr>\n",
       "    <tr>\n",
       "      <th>4</th>\n",
       "      <td>017</td>\n",
       "      <td>59.322</td>\n",
       "    </tr>\n",
       "    <tr>\n",
       "      <th>...</th>\n",
       "      <td>...</td>\n",
       "      <td>...</td>\n",
       "    </tr>\n",
       "    <tr>\n",
       "      <th>8420</th>\n",
       "      <td>059</td>\n",
       "      <td>1:03.382</td>\n",
       "    </tr>\n",
       "    <tr>\n",
       "      <th>8421</th>\n",
       "      <td>062</td>\n",
       "      <td>1:05.720</td>\n",
       "    </tr>\n",
       "    <tr>\n",
       "      <th>8422</th>\n",
       "      <td>063</td>\n",
       "      <td>1:15.777</td>\n",
       "    </tr>\n",
       "    <tr>\n",
       "      <th>8423</th>\n",
       "      <td>064</td>\n",
       "      <td>1:21.705</td>\n",
       "    </tr>\n",
       "    <tr>\n",
       "      <th>8424</th>\n",
       "      <td>None</td>\n",
       "      <td>None</td>\n",
       "    </tr>\n",
       "  </tbody>\n",
       "</table>\n",
       "<p>8425 rows × 2 columns</p>\n",
       "</div>"
      ],
      "text/plain": [
       "     car_number best_lap_time\n",
       "0           000      1:00.457\n",
       "1           001        58.780\n",
       "2           008      1:02.119\n",
       "3           012        59.808\n",
       "4           017        59.322\n",
       "...         ...           ...\n",
       "8420        059      1:03.382\n",
       "8421        062      1:05.720\n",
       "8422        063      1:15.777\n",
       "8423        064      1:21.705\n",
       "8424       None          None\n",
       "\n",
       "[8425 rows x 2 columns]"
      ]
     },
     "execution_count": 50,
     "metadata": {},
     "output_type": "execute_result"
    }
   ],
   "source": [
    "query = f\"\"\"\n",
    "with last_30_days as (\n",
    "    select *\n",
    "    from\n",
    "        (select *,\n",
    "        date(year || '-' || substr('00' || month, -2) || '-' || substr('00' || day, -2)) as date\n",
    "        from params_to_scrap\n",
    "        where \n",
    "        fetched is True) t\n",
    "    where date >= '{init_date.strftime('%Y-%m-%d')}'\n",
    ")\n",
    "select \n",
    "btr.car_number,\n",
    "btr.best_lap_time\n",
    "from last_30_days l\n",
    "left join bronze_racing_tries brt on brt.params_id = l.id\n",
    "left join bronze_try_results btr on btr.uid = brt.uid\n",
    "\"\"\"\n",
    "df = pd.read_sql_query(query, conn)\n",
    "df"
   ]
  }
 ],
 "metadata": {
  "kernelspec": {
   "display_name": "Python 3 (ipykernel)",
   "language": "python",
   "name": "python3"
  },
  "language_info": {
   "codemirror_mode": {
    "name": "ipython",
    "version": 3
   },
   "file_extension": ".py",
   "mimetype": "text/x-python",
   "name": "python",
   "nbconvert_exporter": "python",
   "pygments_lexer": "ipython3",
   "version": "3.10.10"
  }
 },
 "nbformat": 4,
 "nbformat_minor": 5
}
