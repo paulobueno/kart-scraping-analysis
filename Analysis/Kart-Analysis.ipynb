{
 "cells": [
  {
   "cell_type": "markdown",
   "metadata": {},
   "source": [
    "# Likelyhood of winning a championship based on car's performance history\n",
    "\n",
    "\n",
    "The main objective of this analysis is to measure how much impact the deviation on car's performance determine championship's results.\n",
    "\n",
    "The approach will be identify how much in seconds each car is faster based on all races and then select one championship to predict what would be the result if there were no performance diferences between cars.\n",
    "\n",
    "The data was obtained scraping [KGV's website](http://kartodromogranjaviana.com.br/), one of the biggest kart circuits in Latin America, based on Granja Viana - Sao Paulo.\n",
    "\n",
    "At KGV kart circuit there are several car categories that are allowed to performe a race. To that analysis, we are going to focus only on races in which rented cars were used. The reason is that by following this approach we have a better chance to correctly identify and link cars between diferent races. Furthermore, the data of rented races is much richier than other categories.\n",
    "\n",
    "To tackle our objective, we are going to based our analysis on KGV's Granja Viana circuit in 2019, resticted to rented car's races.\n",
    "\n",
    "We are going to use the following assumptions:\n",
    "* Car's numbers doesn't change between the actual cars (confirmed by kart circuit's adms)\n",
    "* Championship points scoring system is equal to [F1 in 2019](https://en.wikipedia.org/wiki/List_of_Formula_One_World_Championship_points_scoring_systems)"
   ]
  },
  {
   "cell_type": "code",
   "execution_count": 2,
   "metadata": {},
   "outputs": [],
   "source": [
    "import pandas as pd\n",
    "import matplotlib.pyplot as plt\n",
    "import numpy as np"
   ]
  },
  {
   "cell_type": "code",
   "execution_count": 3,
   "metadata": {
    "pycharm": {
     "is_executing": true,
     "name": "#%%\n"
    }
   },
   "outputs": [
    {
     "data": {
      "text/html": [
       "<div>\n",
       "<style scoped>\n",
       "    .dataframe tbody tr th:only-of-type {\n",
       "        vertical-align: middle;\n",
       "    }\n",
       "\n",
       "    .dataframe tbody tr th {\n",
       "        vertical-align: top;\n",
       "    }\n",
       "\n",
       "    .dataframe thead th {\n",
       "        text-align: right;\n",
       "    }\n",
       "</style>\n",
       "<table border=\"1\" class=\"dataframe\">\n",
       "  <thead>\n",
       "    <tr style=\"text-align: right;\">\n",
       "      <th></th>\n",
       "      <th>No.</th>\n",
       "      <th>na volta.</th>\n",
       "      <th>Voltas</th>\n",
       "    </tr>\n",
       "  </thead>\n",
       "  <tbody>\n",
       "    <tr>\n",
       "      <th>count</th>\n",
       "      <td>580.000000</td>\n",
       "      <td>580.000000</td>\n",
       "      <td>129.000000</td>\n",
       "    </tr>\n",
       "    <tr>\n",
       "      <th>mean</th>\n",
       "      <td>22.975862</td>\n",
       "      <td>12.065517</td>\n",
       "      <td>20.837209</td>\n",
       "    </tr>\n",
       "    <tr>\n",
       "      <th>std</th>\n",
       "      <td>15.205311</td>\n",
       "      <td>5.506082</td>\n",
       "      <td>6.545264</td>\n",
       "    </tr>\n",
       "    <tr>\n",
       "      <th>min</th>\n",
       "      <td>1.000000</td>\n",
       "      <td>0.000000</td>\n",
       "      <td>1.000000</td>\n",
       "    </tr>\n",
       "    <tr>\n",
       "      <th>25%</th>\n",
       "      <td>10.000000</td>\n",
       "      <td>9.000000</td>\n",
       "      <td>14.000000</td>\n",
       "    </tr>\n",
       "    <tr>\n",
       "      <th>50%</th>\n",
       "      <td>22.000000</td>\n",
       "      <td>12.000000</td>\n",
       "      <td>25.000000</td>\n",
       "    </tr>\n",
       "    <tr>\n",
       "      <th>75%</th>\n",
       "      <td>33.000000</td>\n",
       "      <td>15.000000</td>\n",
       "      <td>26.000000</td>\n",
       "    </tr>\n",
       "    <tr>\n",
       "      <th>max</th>\n",
       "      <td>80.000000</td>\n",
       "      <td>34.000000</td>\n",
       "      <td>28.000000</td>\n",
       "    </tr>\n",
       "  </tbody>\n",
       "</table>\n",
       "</div>"
      ],
      "text/plain": [
       "              No.   na volta.      Voltas\n",
       "count  580.000000  580.000000  129.000000\n",
       "mean    22.975862   12.065517   20.837209\n",
       "std     15.205311    5.506082    6.545264\n",
       "min      1.000000    0.000000    1.000000\n",
       "25%     10.000000    9.000000   14.000000\n",
       "50%     22.000000   12.000000   25.000000\n",
       "75%     33.000000   15.000000   26.000000\n",
       "max     80.000000   34.000000   28.000000"
      ]
     },
     "execution_count": 3,
     "metadata": {},
     "output_type": "execute_result"
    }
   ],
   "source": [
    "kart_data = pd.read_csv(\"../Data/kart_data.csv\")\n",
    "kart_data.describe()"
   ]
  },
  {
   "cell_type": "code",
   "execution_count": null,
   "metadata": {
    "pycharm": {
     "is_executing": true,
     "name": "#%%\n"
    }
   },
   "outputs": [],
   "source": [
    "kart_data.head()"
   ]
  },
  {
   "cell_type": "code",
   "execution_count": null,
   "metadata": {
    "pycharm": {
     "is_executing": true,
     "name": "#%%\n"
    }
   },
   "outputs": [],
   "source": [
    "kart_data.groupby('No.').count()['Pos'].describe()"
   ]
  },
  {
   "cell_type": "markdown",
   "metadata": {
    "pycharm": {
     "name": "#%% md\n"
    }
   },
   "source": [
    "### Selecting just karts with 100 or more races"
   ]
  },
  {
   "cell_type": "code",
   "execution_count": null,
   "metadata": {
    "pycharm": {
     "is_executing": true,
     "name": "#%%\n"
    }
   },
   "outputs": [],
   "source": [
    "filter_karts_500races = kart_data.groupby('No.').count()['Pos'] >= 500\n",
    "karts_500races = kart_data.groupby('No.').count()['Pos'][filter_karts_500races].reset_index()[\"No.\"]\n",
    "karts_500races.head()"
   ]
  },
  {
   "cell_type": "code",
   "execution_count": null,
   "metadata": {
    "pycharm": {
     "is_executing": true,
     "name": "#%%\n"
    }
   },
   "outputs": [],
   "source": [
    "filter_karts = kart_data['No.'].isin(karts_500races)\n",
    "kart_data = kart_data[filter_karts]\n",
    "kart_data.describe()"
   ]
  },
  {
   "cell_type": "code",
   "execution_count": null,
   "metadata": {
    "pycharm": {
     "is_executing": true,
     "name": "#%%\n"
    }
   },
   "outputs": [],
   "source": [
    "kart_data['Pos'] = pd.to_numeric(kart_data['Pos'],errors='coerce')\n",
    "kart_data.pivot(columns='No.',values='Pos').describe()"
   ]
  },
  {
   "cell_type": "code",
   "execution_count": null,
   "metadata": {
    "pycharm": {
     "is_executing": true,
     "name": "#%%\n"
    }
   },
   "outputs": [],
   "source": [
    "# the boxplot\n",
    "fig1, ax1 = plt.subplots()\n",
    "data=[]\n",
    "for i in range(1,20):\n",
    "    _data = kart_data.loc[(kart_data['No.']==i) & (kart_data['Pos'] > 0), 'Pos']\n",
    "    _data_mean = np.mean(_data)\n",
    "    data.append((i,_data_mean,data))\n",
    "\n",
    "data.sort(key=lambda x: x[1])\n",
    "\n",
    "# ax1.boxplot(data[0][2], vert=False, meanline=True)"
   ]
  },
  {
   "cell_type": "code",
   "execution_count": null,
   "metadata": {
    "pycharm": {
     "is_executing": true,
     "name": "#%%\n"
    }
   },
   "outputs": [],
   "source": [
    "kart_data.loc[kart_data['No.']==1]['Pos'].reset_index().head()"
   ]
  },
  {
   "cell_type": "code",
   "execution_count": null,
   "metadata": {
    "pycharm": {
     "is_executing": true,
     "name": "#%%\n"
    }
   },
   "outputs": [],
   "source": [
    "# Fixing random state for reproducibility\n",
    "np.random.seed(19680801)\n",
    "\n",
    "# fake up some data\n",
    "spread = np.random.rand(50) * 100\n",
    "center = np.ones(25) * 50\n",
    "flier_high = np.random.rand(10) * 100 + 100\n",
    "flier_low = np.random.rand(10) * -100\n",
    "data = np.concatenate((spread, center, flier_high, flier_low))"
   ]
  },
  {
   "cell_type": "code",
   "execution_count": null,
   "metadata": {
    "pycharm": {
     "is_executing": true,
     "name": "#%%\n"
    }
   },
   "outputs": [],
   "source": [
    "fig1, ax1 = plt.subplots()\n",
    "ax1.set_title('Basic Plot')\n",
    "ax1.boxplot(data)"
   ]
  },
  {
   "cell_type": "code",
   "execution_count": null,
   "metadata": {
    "pycharm": {
     "is_executing": true,
     "name": "#%%\n"
    }
   },
   "outputs": [],
   "source": [
    "\n",
    "data"
   ]
  },
  {
   "cell_type": "code",
   "execution_count": null,
   "metadata": {
    "pycharm": {
     "is_executing": true,
     "name": "#%%\n"
    }
   },
   "outputs": [],
   "source": []
  },
  {
   "cell_type": "code",
   "execution_count": null,
   "metadata": {
    "pycharm": {
     "is_executing": true,
     "name": "#%%\n"
    }
   },
   "outputs": [],
   "source": [
    "\n"
   ]
  }
 ],
 "metadata": {
  "kernelspec": {
   "display_name": "Python 3",
   "language": "python",
   "name": "python3"
  },
  "language_info": {
   "codemirror_mode": {
    "name": "ipython",
    "version": 3
   },
   "file_extension": ".py",
   "mimetype": "text/x-python",
   "name": "python",
   "nbconvert_exporter": "python",
   "pygments_lexer": "ipython3",
   "version": "3.9.2"
  }
 },
 "nbformat": 4,
 "nbformat_minor": 1
}
